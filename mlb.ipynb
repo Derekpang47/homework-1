{
  "nbformat": 4,
  "nbformat_minor": 0,
  "metadata": {
    "colab": {
      "name": "mlb.ipynb",
      "provenance": [],
      "collapsed_sections": [],
      "authorship_tag": "ABX9TyOMSEl50ZA2ApA8+sGIFAkt",
      "include_colab_link": true
    },
    "kernelspec": {
      "name": "python3",
      "display_name": "Python 3"
    }
  },
  "cells": [
    {
      "cell_type": "markdown",
      "metadata": {
        "id": "view-in-github",
        "colab_type": "text"
      },
      "source": [
        "<a href=\"https://colab.research.google.com/github/vu-bigdata-2020/homework-1/blob/master/mlb.ipynb\" target=\"_parent\"><img src=\"https://colab.research.google.com/assets/colab-badge.svg\" alt=\"Open In Colab\"/></a>"
      ]
    },
    {
      "cell_type": "code",
      "metadata": {
        "id": "GC3Lt7fbM55e",
        "colab_type": "code",
        "colab": {
          "base_uri": "https://localhost:8080/",
          "height": 102
        },
        "outputId": "51e50ed1-9c2a-4f2a-fe08-891a629e63db"
      },
      "source": [
        "!pip install pymysql"
      ],
      "execution_count": 1,
      "outputs": [
        {
          "output_type": "stream",
          "text": [
            "Collecting pymysql\n",
            "\u001b[?25l  Downloading https://files.pythonhosted.org/packages/ed/39/15045ae46f2a123019aa968dfcba0396c161c20f855f11dea6796bcaae95/PyMySQL-0.9.3-py2.py3-none-any.whl (47kB)\n",
            "\r\u001b[K     |██████▉                         | 10kB 10.5MB/s eta 0:00:01\r\u001b[K     |█████████████▊                  | 20kB 8.7MB/s eta 0:00:01\r\u001b[K     |████████████████████▋           | 30kB 11.2MB/s eta 0:00:01\r\u001b[K     |███████████████████████████▌    | 40kB 6.4MB/s eta 0:00:01\r\u001b[K     |████████████████████████████████| 51kB 2.5MB/s \n",
            "\u001b[?25hInstalling collected packages: pymysql\n",
            "Successfully installed pymysql-0.9.3\n"
          ],
          "name": "stdout"
        }
      ]
    },
    {
      "cell_type": "code",
      "metadata": {
        "id": "hYy0xgYiNTF4",
        "colab_type": "code",
        "colab": {}
      },
      "source": [
        "import pymysql\n",
        "\n",
        "\n",
        "class DB:\n",
        "    def __init__(self):\n",
        "        try:\n",
        "          self.conn = pymysql.connect(\n",
        "              user='update-me'#@param {type:\"string\"},\n",
        "              password='update-me'#@param {type:\"string\"},\n",
        "              host='database-3.cru0oxwnnqay.us-east-1.rds.amazonaws.com-update-me'#@param {type:\"string\"}\n",
        "              #database='mydb'\n",
        "          )\n",
        "\n",
        "        except Exception as e:\n",
        "            print(\"I am unable to connect to the database - bye \" + str(e))\n",
        "            exit()\n",
        "        print('Got a DB connection!- hurray')\n",
        "        self.cur = self.conn.cursor()\n",
        "\n",
        "    def cursor(self):\n",
        "        return self.cur\n",
        "\n",
        "    def getNewCursor(self):\n",
        "        return self.conn.cursor()\n",
        "\n",
        "    def connection(self):\n",
        "        return self.conn\n",
        "\n",
        "    def query(self, q):\n",
        "        self.cur.execute(q)\n",
        "        try:\n",
        "          output=self.cur.fetchone()\n",
        "          return self.cur.fetchall()\n",
        "        except Exception as e:\n",
        "          print('no result to return')\n",
        "          return"
      ],
      "execution_count": 0,
      "outputs": []
    },
    {
      "cell_type": "markdown",
      "metadata": {
        "id": "IJ0yl4QoNVPu",
        "colab_type": "text"
      },
      "source": [
        "Implement the following queries\n",
        "\n",
        "1. The number of all stars in allstarfull.\n",
        "2. The most home runs in a season by a single player (using the batting table).\n",
        "3. The playerid of the player with the most home runs in a season.\n",
        "4. The number of leagues in the batting table.\n",
        "5. Barry Bond's average batting average (playerid = 'bondsba01') where batting average is hits / at-bats. Note you will nead to cast hits to get a decimal: cast(h as real)\n",
        "6. The teamid with the fewest hits in the year 2000 (ie., yearid = '2000'). Return both the teamid, and the number of hits. Note you can use ORDER BY column and LIMIT 1.\n",
        "7. The teamid in the year 2000 (i.e., yearid = '2000')  with the highest average batting average. Return the teamid and the average. To prevent divsion by 0, limit at-bats > 0.\n",
        "8. The number of all stars the giants (teamid = 'SFN') had in 2000.\n",
        "9. The yearid which the giants had the most all stars.\n",
        "10. The average salary in year 2000.\n",
        "11. The number of positions (e.g., catchers, pitchers) that have average salaries greather than 2000000 in yearid 2000. You will need to join fielding with salaries. Also consider using a HAVING clause.\n",
        "12. The number of errors Barry Bonds had in 2000. \n",
        "13. The average salary of all stars in 2000.\n",
        "14. The average salary of non-all stars in 2000.\n",
        "\n",
        "You can test each query result using the  corresponding tests in the notebook."
      ]
    },
    {
      "cell_type": "code",
      "metadata": {
        "id": "Z-utpfszNUru",
        "colab_type": "code",
        "colab": {}
      },
      "source": [
        "#as an example q1 and q3  have been already filled for you. Note the use of group by https://www.w3schools.com/sql/sql_groupby.asp to categorize the data by player id and year.\n",
        "q1 = 'select count(*) from allstarfull;'\n",
        "q3 = 'select playerid from batting INNER Join (select MAX(HR) as m from batting) as data ON batting.hr=data.m'"
      ],
      "execution_count": 0,
      "outputs": []
    },
    {
      "cell_type": "code",
      "metadata": {
        "id": "t5J2wnqHNlRV",
        "colab_type": "code",
        "colab": {}
      },
      "source": [
        "q2 = 'select 1'\n",
        "q4 = 'select 1'\n",
        "q5 = 'select 1'\n",
        "q6 = 'select 1'\n",
        "q7 = 'select 1'\n",
        "q8 = 'select 1'\n",
        "q9 = 'select 1'\n",
        "q10 = 'select 1'\n",
        "q11 = 'select 1'\n",
        "q12 = 'select 1'\n",
        "q13 = 'select 1'\n",
        "q14 = 'select 1'"
      ],
      "execution_count": 0,
      "outputs": []
    },
    {
      "cell_type": "code",
      "metadata": {
        "id": "Xi19qUekN39G",
        "colab_type": "code",
        "colab": {}
      },
      "source": [
        "#the main function will execute all queries\n",
        "def main():\n",
        "    db = DB('lahman')\n",
        "    for q in [q1, q2, q3, q4, q5, q6, q7, q8, q9, q10, q11, q12, q13, q14]:\n",
        "        for line in db.query(q):\n",
        "            print(line[0])"
      ],
      "execution_count": 0,
      "outputs": []
    },
    {
      "cell_type": "markdown",
      "metadata": {
        "id": "-944wRz4ONk2",
        "colab_type": "text"
      },
      "source": [
        "And here are all the tests. You can run any of these tests directly and check the results against your query."
      ]
    },
    {
      "cell_type": "code",
      "metadata": {
        "id": "NbRSv2gDOScv",
        "colab_type": "code",
        "colab": {}
      },
      "source": [
        "def test_q1():\n",
        "    db = DB()\n",
        "    assert db.query(q1)[0][0] == 4834"
      ],
      "execution_count": 0,
      "outputs": []
    },
    {
      "cell_type": "code",
      "metadata": {
        "id": "3Z8iyPx9Y6D7",
        "colab_type": "code",
        "colab": {}
      },
      "source": [
        "def test_q2():\n",
        "    db = DB()\n",
        "    assert db.query(q2)[0][0] == 73"
      ],
      "execution_count": 0,
      "outputs": []
    },
    {
      "cell_type": "code",
      "metadata": {
        "id": "E-Cf62JxY6oY",
        "colab_type": "code",
        "colab": {}
      },
      "source": [
        "def test_q3():\n",
        "    db = DB()\n",
        "    assert db.query(q3)[0][0] == 'bondsba01'"
      ],
      "execution_count": 0,
      "outputs": []
    },
    {
      "cell_type": "code",
      "metadata": {
        "id": "2JNSZ8K0Y8MI",
        "colab_type": "code",
        "colab": {}
      },
      "source": [
        "def test_q4():\n",
        "    db = DB()\n",
        "    assert db.query(q4)[0][0] == 7"
      ],
      "execution_count": 0,
      "outputs": []
    },
    {
      "cell_type": "code",
      "metadata": {
        "id": "Y9E7_KOMY9zY",
        "colab_type": "code",
        "colab": {}
      },
      "source": [
        "def test_q5():\n",
        "    db = DB()\n",
        "    assert db.query(q5)[0][0] == 0.298305762860046"
      ],
      "execution_count": 0,
      "outputs": []
    },
    {
      "cell_type": "code",
      "metadata": {
        "id": "_RQJ58SQZBkR",
        "colab_type": "code",
        "colab": {}
      },
      "source": [
        "def test_q6():\n",
        "    db = DB()\n",
        "    assert db.query(q6)[0][0] == 'MIL'\n",
        "    assert db.query(q6)[0][1] == 1366"
      ],
      "execution_count": 0,
      "outputs": []
    },
    {
      "cell_type": "code",
      "metadata": {
        "id": "h_nO4V2GZD2o",
        "colab_type": "code",
        "colab": {}
      },
      "source": [
        "    db = DB()\n",
        "    assert db.query(q7)[0][0] == 'SEA'\n",
        "    assert db.query(q7)[0][1] == 0.280799158489005"
      ],
      "execution_count": 0,
      "outputs": []
    },
    {
      "cell_type": "code",
      "metadata": {
        "id": "tHXnXizMZFMw",
        "colab_type": "code",
        "colab": {}
      },
      "source": [
        "def test_q8():\n",
        "    db = DB()\n",
        "    assert db.query(q8)[0][0] == 2"
      ],
      "execution_count": 0,
      "outputs": []
    },
    {
      "cell_type": "code",
      "metadata": {
        "id": "Rk9C96EgZGsw",
        "colab_type": "code",
        "colab": {}
      },
      "source": [
        "def test_q9():\n",
        "    db = DB()\n",
        "    assert db.query(q9)[0][0] in ['1961', '1962']"
      ],
      "execution_count": 0,
      "outputs": []
    },
    {
      "cell_type": "code",
      "metadata": {
        "id": "n5k73xhGZM6J",
        "colab_type": "code",
        "colab": {}
      },
      "source": [
        "def test_q10():\n",
        "    db = DB()\n",
        "    assert int(db.query(q10)[0][0]) == 1992984"
      ],
      "execution_count": 0,
      "outputs": []
    },
    {
      "cell_type": "code",
      "metadata": {
        "id": "fn_RjI-yZO7g",
        "colab_type": "code",
        "colab": {}
      },
      "source": [
        "def test_q11():\n",
        "    db = DB()\n",
        "    assert db.query(q11)[0][0] == 2"
      ],
      "execution_count": 0,
      "outputs": []
    },
    {
      "cell_type": "code",
      "metadata": {
        "id": "2rDASFGDZQY5",
        "colab_type": "code",
        "colab": {}
      },
      "source": [
        "def test_q12():\n",
        "    db = DB()\n",
        "    assert db.query(q12)[0][0] == 3"
      ],
      "execution_count": 0,
      "outputs": []
    },
    {
      "cell_type": "code",
      "metadata": {
        "id": "4BTx1FKfZRtg",
        "colab_type": "code",
        "colab": {}
      },
      "source": [
        "def test_q13():\n",
        "    db = DB()\n",
        "    assert int(db.query(q13)[0][0]) == 5388841"
      ],
      "execution_count": 0,
      "outputs": []
    },
    {
      "cell_type": "code",
      "metadata": {
        "id": "cFwM4GFLZT7x",
        "colab_type": "code",
        "colab": {}
      },
      "source": [
        "def test_q14():\n",
        "    db = DB()\n",
        "    assert int(db.query(q14)[0][0]) == 1692309"
      ],
      "execution_count": 0,
      "outputs": []
    },
    {
      "cell_type": "code",
      "metadata": {
        "id": "kGWQGAFvZVZJ",
        "colab_type": "code",
        "colab": {
          "base_uri": "https://localhost:8080/",
          "height": 248
        },
        "outputId": "b166af6b-e750-468f-959c-d4b8b3d62356"
      },
      "source": [
        "# To run any test execute it below as follows. You will see it is failing because the DB connections settings in default notebook are not correct.\n",
        "test_q14()"
      ],
      "execution_count": 4,
      "outputs": [
        {
          "output_type": "error",
          "ename": "NameError",
          "evalue": "ignored",
          "traceback": [
            "\u001b[0;31m---------------------------------------------------------------------------\u001b[0m",
            "\u001b[0;31mNameError\u001b[0m                                 Traceback (most recent call last)",
            "\u001b[0;32m<ipython-input-4-19355efadc34>\u001b[0m in \u001b[0;36m<module>\u001b[0;34m()\u001b[0m\n\u001b[0;32m----> 1\u001b[0;31m \u001b[0mtest_q14\u001b[0m\u001b[0;34m(\u001b[0m\u001b[0;34m)\u001b[0m\u001b[0;34m\u001b[0m\u001b[0;34m\u001b[0m\u001b[0m\n\u001b[0m",
            "\u001b[0;32m<ipython-input-3-8e8b06de5f61>\u001b[0m in \u001b[0;36mtest_q14\u001b[0;34m()\u001b[0m\n\u001b[1;32m      1\u001b[0m \u001b[0;32mdef\u001b[0m \u001b[0mtest_q14\u001b[0m\u001b[0;34m(\u001b[0m\u001b[0;34m)\u001b[0m\u001b[0;34m:\u001b[0m\u001b[0;34m\u001b[0m\u001b[0;34m\u001b[0m\u001b[0m\n\u001b[0;32m----> 2\u001b[0;31m     \u001b[0mdb\u001b[0m \u001b[0;34m=\u001b[0m \u001b[0mDB\u001b[0m\u001b[0;34m(\u001b[0m\u001b[0;34m)\u001b[0m\u001b[0;34m\u001b[0m\u001b[0;34m\u001b[0m\u001b[0m\n\u001b[0m\u001b[1;32m      3\u001b[0m     \u001b[0;32massert\u001b[0m \u001b[0mint\u001b[0m\u001b[0;34m(\u001b[0m\u001b[0mdb\u001b[0m\u001b[0;34m.\u001b[0m\u001b[0mquery\u001b[0m\u001b[0;34m(\u001b[0m\u001b[0mq14\u001b[0m\u001b[0;34m)\u001b[0m\u001b[0;34m[\u001b[0m\u001b[0;36m0\u001b[0m\u001b[0;34m]\u001b[0m\u001b[0;34m[\u001b[0m\u001b[0;36m0\u001b[0m\u001b[0;34m]\u001b[0m\u001b[0;34m)\u001b[0m \u001b[0;34m==\u001b[0m \u001b[0;36m1692309\u001b[0m\u001b[0;34m\u001b[0m\u001b[0;34m\u001b[0m\u001b[0m\n",
            "\u001b[0;31mNameError\u001b[0m: name 'DB' is not defined"
          ]
        }
      ]
    },
    {
      "cell_type": "code",
      "metadata": {
        "id": "yzP9OGpzZqQS",
        "colab_type": "code",
        "colab": {
          "base_uri": "https://localhost:8080/",
          "height": 180
        },
        "outputId": "b43efa5c-5b4e-4eb2-8423-ac15e49e1d7f"
      },
      "source": [
        "#To run the main function call main from the notebook here\n",
        "if __name__ == '__main__':\n",
        "    main()"
      ],
      "execution_count": 5,
      "outputs": [
        {
          "output_type": "error",
          "ename": "NameError",
          "evalue": "ignored",
          "traceback": [
            "\u001b[0;31m---------------------------------------------------------------------------\u001b[0m",
            "\u001b[0;31mNameError\u001b[0m                                 Traceback (most recent call last)",
            "\u001b[0;32m<ipython-input-5-c7bc734e5e35>\u001b[0m in \u001b[0;36m<module>\u001b[0;34m()\u001b[0m\n\u001b[1;32m      1\u001b[0m \u001b[0;32mif\u001b[0m \u001b[0m__name__\u001b[0m \u001b[0;34m==\u001b[0m \u001b[0;34m'__main__'\u001b[0m\u001b[0;34m:\u001b[0m\u001b[0;34m\u001b[0m\u001b[0;34m\u001b[0m\u001b[0m\n\u001b[0;32m----> 2\u001b[0;31m     \u001b[0mmain\u001b[0m\u001b[0;34m(\u001b[0m\u001b[0;34m)\u001b[0m\u001b[0;34m\u001b[0m\u001b[0;34m\u001b[0m\u001b[0m\n\u001b[0m",
            "\u001b[0;31mNameError\u001b[0m: name 'main' is not defined"
          ]
        }
      ]
    }
  ]
}