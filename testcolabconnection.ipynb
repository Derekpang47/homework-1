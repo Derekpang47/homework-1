{
  "nbformat": 4,
  "nbformat_minor": 0,
  "metadata": {
    "colab": {
      "name": "testcolabconnection.ipynb",
      "provenance": [],
      "authorship_tag": "ABX9TyNdwRCMb7Q6I3lpOaX9wQCo",
      "include_colab_link": true
    },
    "kernelspec": {
      "name": "python3",
      "display_name": "Python 3"
    }
  },
  "cells": [
    {
      "cell_type": "markdown",
      "metadata": {
        "id": "view-in-github",
        "colab_type": "text"
      },
      "source": [
        "<a href=\"https://colab.research.google.com/github/vu-bigdata-2020/homework-1/blob/master/testcolabconnection.ipynb\" target=\"_parent\"><img src=\"https://colab.research.google.com/assets/colab-badge.svg\" alt=\"Open In Colab\"/></a>"
      ]
    },
    {
      "cell_type": "markdown",
      "metadata": {
        "id": "PqfHYEVMXoOR",
        "colab_type": "text"
      },
      "source": [
        "Get MySQL python Module (note we use python 3 by default)"
      ]
    },
    {
      "cell_type": "code",
      "metadata": {
        "id": "5mlJ_PBXXd0q",
        "colab_type": "code",
        "colab": {}
      },
      "source": [
        "!pip install pymysql"
      ],
      "execution_count": 0,
      "outputs": []
    },
    {
      "cell_type": "markdown",
      "metadata": {
        "id": "4Jfc21p9Xy7w",
        "colab_type": "text"
      },
      "source": [
        "Create the DB connection class and update the parameters for your database"
      ]
    },
    {
      "cell_type": "code",
      "metadata": {
        "id": "h8BqquqsX27v",
        "colab_type": "code",
        "colab": {}
      },
      "source": [
        "import pymysql\n",
        "\n",
        "\n",
        "class DB:\n",
        "    def __init__(self):\n",
        "        try:\n",
        "          self.conn = pymysql.connect(\n",
        "              user='update-me'#@param {type:\"string\"},\n",
        "              password='update-me'#@param {type:\"string\"},\n",
        "              host='database-3.cru0oxwnnqay.us-east-1.rds.amazonaws.com-update-me'#@param {type:\"string\"}\n",
        "              #database='mydb'\n",
        "          )\n",
        "\n",
        "        except Exception as e:\n",
        "            print(\"I am unable to connect to the database - bye \" + str(e))\n",
        "            exit()\n",
        "        print('Got a DB connection!- hurray')\n",
        "        self.cur = self.conn.cursor()\n",
        "\n",
        "    def cursor(self):\n",
        "        return self.cur\n",
        "\n",
        "    def getNewCursor(self):\n",
        "        return self.conn.cursor()\n",
        "\n",
        "    def connection(self):\n",
        "        return self.conn\n",
        "\n",
        "    def query(self, q):\n",
        "        self.cur.execute(q)\n",
        "        try:\n",
        "          output=self.cur.fetchone()\n",
        "          return self.cur.fetchall()\n",
        "        except Exception as e:\n",
        "          print('no result to return')\n",
        "          return\n",
        "          \n"
      ],
      "execution_count": 0,
      "outputs": []
    },
    {
      "cell_type": "markdown",
      "metadata": {
        "id": "RwddZS9uYWW0",
        "colab_type": "text"
      },
      "source": [
        "Run a sample Query.\n"
      ]
    },
    {
      "cell_type": "code",
      "metadata": {
        "id": "BajLajrCYZSb",
        "colab_type": "code",
        "colab": {}
      },
      "source": [
        "q = 'use lahman;'#@param {type:\"string\"}\n",
        "db1.query(q)\n",
        "#db1.connection().commit()\n",
        "q = 'show tables;'#@param {type:\"string\"}\n",
        "res=db1.query(q)\n",
        "#db1.connection().commit()\n",
        "print('Success! I ran a query and got {} results'.format(len(db1.query(q))))\n",
        "print(res)\n"
      ],
      "execution_count": 0,
      "outputs": []
    }
  ]
}